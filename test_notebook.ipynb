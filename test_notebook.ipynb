{
 "cells": [
  {
   "cell_type": "code",
   "execution_count": 1,
   "metadata": {},
   "outputs": [],
   "source": [
    "from src.classes import Class\n",
    "from src.functions import print_points, Character\n",
    "from src.selection import tournament_det, tournament_prob"
   ]
  },
  {
   "cell_type": "code",
   "execution_count": 2,
   "metadata": {},
   "outputs": [],
   "source": [
    "CLASS = Class.ARCHER\n",
    "COUNT = 1000\n",
    "\n",
    "characters: list[Character] = [Character.random(CLASS) for _ in range(COUNT)]\n",
    "population = [(character.performance(), character) for character in characters]"
   ]
  },
  {
   "cell_type": "code",
   "execution_count": 3,
   "metadata": {},
   "outputs": [
    {
     "name": "stdout",
     "output_type": "stream",
     "text": [
      "50.05111645751197\n",
      "strength    = 73.04859241541352\n",
      "agility     = 57.64975746353031\n",
      "proficiency = 1.1812466034391473\n",
      "resistance  = 17.82052104116042\n",
      "health      = 0.29988247645662175\n"
     ]
    }
   ],
   "source": [
    "best = max(population, key=lambda pair : pair[0])\n",
    "print(best[0])\n",
    "print_points(best[1].points)"
   ]
  },
  {
   "cell_type": "code",
   "execution_count": 4,
   "metadata": {},
   "outputs": [
    {
     "name": "stdout",
     "output_type": "stream",
     "text": [
      "1.343259497459926\n",
      "strength    = 0.7321059436694141\n",
      "agility     = 44.987652418652665\n",
      "proficiency = 49.949056855905475\n",
      "resistance  = 45.356267033539226\n",
      "health      = 8.974917748233226\n"
     ]
    }
   ],
   "source": [
    "worst = min(population, key=lambda pair : pair[0])\n",
    "print(worst[0])\n",
    "print_points(worst[1].points)"
   ]
  },
  {
   "cell_type": "code",
   "execution_count": 5,
   "metadata": {},
   "outputs": [
    {
     "name": "stdout",
     "output_type": "stream",
     "text": [
      "[28.395667299164497, 28.86867144417803, 36.30290003966097]\n"
     ]
    }
   ],
   "source": [
    "selected = tournament_det(population, 3)\n",
    "performance = [character.performance() for character in selected]\n",
    "print(performance)"
   ]
  },
  {
   "cell_type": "code",
   "execution_count": 6,
   "metadata": {},
   "outputs": [
    {
     "name": "stdout",
     "output_type": "stream",
     "text": [
      "[28.441862343904116, 15.853560569081727, 8.934601213749637]\n"
     ]
    }
   ],
   "source": [
    "selected = tournament_prob(population, 3)\n",
    "performance = [character.performance() for character in selected]\n",
    "print(performance)"
   ]
  }
 ],
 "metadata": {
  "kernelspec": {
   "display_name": "Python 3 (ipykernel)",
   "language": "python",
   "name": "python3"
  },
  "language_info": {
   "codemirror_mode": {
    "name": "ipython",
    "version": 3
   },
   "file_extension": ".py",
   "mimetype": "text/x-python",
   "name": "python",
   "nbconvert_exporter": "python",
   "pygments_lexer": "ipython3",
   "version": "3.10.12"
  }
 },
 "nbformat": 4,
 "nbformat_minor": 4
}
