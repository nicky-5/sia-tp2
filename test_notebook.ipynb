{
 "cells": [
  {
   "cell_type": "code",
   "execution_count": 1,
   "metadata": {},
   "outputs": [],
   "source": [
    "from src.classes import Class\n",
    "from src.functions import print_points, Character\n",
    "from src.selection import tournament_det, tournament_prob"
   ]
  },
  {
   "cell_type": "code",
   "execution_count": 2,
   "metadata": {},
   "outputs": [],
   "source": [
    "CLASS = Class.ARCHER\n",
    "COUNT = 1000\n",
    "\n",
    "characters: list[Character] = [Character.random(CLASS) for _ in range(COUNT)]\n",
    "population = characters"
   ]
  },
  {
   "cell_type": "code",
   "execution_count": 4,
   "metadata": {},
   "outputs": [
    {
     "name": "stdout",
     "output_type": "stream",
     "text": [
      "Character(class_=<Class.ARCHER: ClassModifier(atk_weight=0.9, def_weight=0.1)>, points=array([74.56341218, 61.40655546, 13.44163526,  0.16733195,  0.42106516]), height=1.9605911813396564, performance=59.02919005237676)\n",
      "strength    = 74.5634121757752\n",
      "agility     = 61.40655545856765\n",
      "proficiency = 13.441635259906878\n",
      "resistance  = 0.16733194714360575\n",
      "health      = 0.421065158606658\n"
     ]
    }
   ],
   "source": [
    "best = max(population, key=lambda character : character.performance)\n",
    "print(best)\n",
    "print_points(best.points)"
   ]
  },
  {
   "cell_type": "code",
   "execution_count": 5,
   "metadata": {},
   "outputs": [
    {
     "name": "stdout",
     "output_type": "stream",
     "text": [
      "Character(class_=<Class.ARCHER: ClassModifier(atk_weight=0.9, def_weight=0.1)>, points=array([ 0.10032687, 76.04786705, 31.96319928,  8.08702629, 33.80158051]), height=1.3202472263005944, performance=1.316832393236578)\n",
      "strength    = 0.100326873393274\n",
      "agility     = 76.04786705112957\n",
      "proficiency = 31.96319928224373\n",
      "resistance  = 8.087026286462141\n",
      "health      = 33.80158050677128\n"
     ]
    }
   ],
   "source": [
    "worst = min(population, key=lambda character : character.performance)\n",
    "print(worst)\n",
    "print_points(worst.points)"
   ]
  },
  {
   "cell_type": "code",
   "execution_count": 6,
   "metadata": {},
   "outputs": [
    {
     "name": "stdout",
     "output_type": "stream",
     "text": [
      "DEBUG: TORUNAMENT DET:  [Character(class_=<Class.ARCHER: ClassModifier(atk_weight=0.9, def_weight=0.1)>, points=array([45.08239519, 39.68410126, 25.49742514, 21.73810088, 17.99797753]), height=1.9397139090165916, performance=34.408709970848676), Character(class_=<Class.ARCHER: ClassModifier(atk_weight=0.9, def_weight=0.1)>, points=array([56.13996398, 39.56096363, 12.4519775 , 17.36015905, 24.48693584]), height=1.3830854446380918, performance=29.37340547762225), Character(class_=<Class.ARCHER: ClassModifier(atk_weight=0.9, def_weight=0.1)>, points=array([31.0984739 , 40.70655586, 16.43697781, 34.95594941, 26.80204302]), height=1.9092359198656896, performance=23.254649794460928)]\n",
      "[34.408709970848676, 29.37340547762225, 23.254649794460928]\n"
     ]
    }
   ],
   "source": [
    "selected = tournament_det(population, 3)\n",
    "performance = [character.performance for character in selected]\n",
    "print(performance)"
   ]
  },
  {
   "cell_type": "code",
   "execution_count": 7,
   "metadata": {},
   "outputs": [
    {
     "name": "stdout",
     "output_type": "stream",
     "text": [
      "DEBUG: TORUNAMENT PROB:  [Character(class_=<Class.ARCHER: ClassModifier(atk_weight=0.9, def_weight=0.1)>, points=array([65.91558942,  7.75743536, 23.45710625, 34.46465434, 18.40521463]), height=1.3670643915967395, performance=16.00519164552278), Character(class_=<Class.ARCHER: ClassModifier(atk_weight=0.9, def_weight=0.1)>, points=array([54.19152123, 30.333364  ,  9.28276143,  8.9364064 , 47.25594694]), height=1.7758754329471502, performance=23.74959150815381), Character(class_=<Class.ARCHER: ClassModifier(atk_weight=0.9, def_weight=0.1)>, points=array([34.29507522, 32.44831326, 24.2121405 , 37.21747951, 21.82699152]), height=1.3574032024483176, performance=18.880773654489275)]\n",
      "[16.00519164552278, 23.74959150815381, 18.880773654489275]\n"
     ]
    }
   ],
   "source": [
    "selected = tournament_prob(population, 3)\n",
    "performance = [character.performance for character in selected]\n",
    "print(performance)"
   ]
  }
 ],
 "metadata": {
  "kernelspec": {
   "display_name": "Python 3 (ipykernel)",
   "language": "python",
   "name": "python3"
  },
  "language_info": {
   "codemirror_mode": {
    "name": "ipython",
    "version": 3
   },
   "file_extension": ".py",
   "mimetype": "text/x-python",
   "name": "python",
   "nbconvert_exporter": "python",
   "pygments_lexer": "ipython3",
   "version": "3.10.13"
  }
 },
 "nbformat": 4,
 "nbformat_minor": 4
}
